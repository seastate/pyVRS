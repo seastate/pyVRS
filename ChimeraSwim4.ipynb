{
 "cells": [
  {
   "cell_type": "markdown",
   "id": "1ee4f11b-4b66-4a26-a90c-dfecebdce5bc",
   "metadata": {
    "editable": true,
    "slideshow": {
     "slide_type": ""
    },
    "tags": []
   },
   "source": [
    "# Swimming of early larval stages in still water and shear \n",
    "This is a graphical interface for using the pyVRS (Python Volume-Rendered Swimmer) model of low-Reynolds number hydrodynamics. It has a simplified interface for entering parameters to investigate stability and movement of early-stage larval morphologies (e.g., eggs, blastulae and gastrulae) approximated by \"chimeras\" of semi-spheroids. These early larval shapes are constructed by joining two half-spheroids about a common central radius. \n",
    "\n",
    "By choosing different spheroid shapes (larger vs. smaller central radii; longer vs. shorter semi-spheroids, etc.) you can construct different surface shapes that resemble the outside surfaces of early stages in larval development. You can assign the main volume inside this surface to have a density that reflects the larval tissue within this surface. \n",
    "\n",
    "You can also add inclusions, constructed from two half-spheroids, to reflect the inner structure of early stage larvae. You can assign different densities to model the effects of internal volumes of these inclusions, to reflect whether they are filled with seawater, calcium carbonate, lipid, or other materials.\n",
    "\n",
    "The resulting shapes do not represent any particular species and stage exactly, but they approximate early stages including eggs, gastrulae and blastulae from a wide diversity of species, and an even wider diversity of hypothetical larval morphologies that do not appear in nature. This makes these shapes good tools for exploring the consequences of size, morphological and physiological features, and properties of the fluid environment such as shear."
   ]
  },
  {
   "cell_type": "markdown",
   "id": "ebe4cfc0-ed35-4d16-b7aa-b897925f1b4c",
   "metadata": {
    "editable": true,
    "slideshow": {
     "slide_type": ""
    },
    "tags": []
   },
   "source": [
    "## How to use this notebook\n",
    "This notebook is set up with \"cells\" that contain either Python code or explanatory text. You can see the cells by the bars and numbers on the left side of the notebook window.\n",
    "\n",
    "### Executing Jupyter notebook cells\n",
    "- **To start the model, pull down the `Run` menu and select `Run All Cells`**\n",
    "- **To execute a code cell, select it and hold down the shift key while typing the `enter` key.**\n",
    "- **To reset the model to its initial state, pull down the `Run` menu and select `Restart Kernel and Run All Cells`**\n",
    "\n",
    "### Using graphics output\n",
    "When the model starts, it creates a larval shape using default parameters. That shape is shown in a separate, resizable graphics window. You can:\n",
    "- **Click and drag on graphics windows to control the viewing angle.**\n",
    "- **Click on the floppy disk icon to save graphics windows as images. Use informative names like `default_shape.svg` so that you can tell one image from another later on.**\n",
    "\n",
    "### Selecting a larval shape\n",
    "There are two ways to select a larval shape:\n",
    "- [Load a file containing the shape and pre-computed hydrodynamic properties](#section_loadshape)\n",
    "- [Use input boxes to modify a shape or define a new one, and then calculate its hydrodynamic properties](#section_defshape)\n",
    "\n",
    "A good way to start is by loading an existing shape (or use the default shape that is automatically loaded below), and running a few simulations with it.\n",
    "-  [Run simulations using the current shape](#section_runshape)\n",
    "\n",
    "When you are familiar with the simulation interface, and have explored the effects of flow on this shape, you can try alternative shapes to see how morphology affects swimming.\n",
    "You can then save that shape to simulate it in a future session without having to recompute it.\n",
    "-  [Save a file containing the current shape for use in a future session](#section_saveshape)\n",
    "\n"
   ]
  },
  {
   "cell_type": "code",
   "execution_count": null,
   "id": "dfa5777c-6244-4f4a-936f-b8a370d2d20a",
   "metadata": {
    "editable": true,
    "jupyter": {
     "source_hidden": true
    },
    "slideshow": {
     "slide_type": ""
    },
    "tags": []
   },
   "outputs": [],
   "source": [
    "# Set up graphics environment\n",
    "#%matplotlib inline\n",
    "#%matplotlib notebook\n",
    "#import IPython\n",
    "%matplotlib widget\n",
    "#%matplotlib ipympl\n",
    "from matplotlib import pyplot\n",
    "pyplot.ioff()\n",
    "#pyplot.ion()\n",
    "from mpl_interactions import ipyplot as iplt\n",
    "from mpl_toolkits import mplot3d\n",
    "from matplotlib.colors import LightSource\n",
    "# Import modules\n",
    "import numpy as np\n",
    "from math import pi\n",
    "import os\n",
    "# set up path to submodules\n",
    "import sys\n",
    "#sys.path.append('../../../submodules/')\n",
    "#sys.path.append('../../../submodules/pyVRS')\n",
    "import pyVRSmorph as mrph\n",
    "import pyVRSflow as flw\n",
    "from meshSpheroid import chimeraSpheroid\n",
    "# Import widget infrastructure\n",
    "from ipywidgets import interact, interactive, fixed, interact_manual, Output\n",
    "import ipywidgets as widgets\n",
    "from IPython import display as idisplay\n",
    "import pickle\n",
    "from ipyfilechooser import FileChooser\n",
    "from copy import deepcopy"
   ]
  },
  {
   "cell_type": "code",
   "execution_count": null,
   "id": "b7a686bc-3a9e-4283-8356-c05faded9d43",
   "metadata": {
    "jupyter": {
     "source_hidden": true
    },
    "tags": []
   },
   "outputs": [],
   "source": [
    "# Create a class and global instances for morphology parameters\n",
    "global surf_pars, incl1_pars, incl2_pars\n",
    "class CEpars():\n",
    "    \"\"\"\n",
    "    A simple class to facilitate acquiring and passing chimera ellipsoid\n",
    "    parameters with interactive_output widgets.\n",
    "    \"\"\"\n",
    "    def __init__(self,D=50.e-6,L1=100.e-6,L2=-40.e-6,d=6e-6,nlevel0=16,nlevel1=12,\n",
    "                      translate0=0.,translate1=0.,translate2=0.):\n",
    "        self.D = D\n",
    "        self.L1 = L1\n",
    "        self.L2 = L2\n",
    "        self.Ls = [L1,L2]\n",
    "        self.d = d\n",
    "        self.nlevels = [nlevel0,nlevel1]\n",
    "        self.translate = [translate0,translate1,translate2]\n",
    "\n",
    "def set_surf_pars(D,L1,L2,d,nlevel0,nlevel1):\n",
    "    global surf_pars\n",
    "    surf_pars=CEpars(D=D,L1=L1,L2=L2,d=d,nlevel0=nlevel0,nlevel1=nlevel1)\n",
    "\n",
    "def set_incl1_pars(D,L1,L2,d,nlevel0,nlevel1,translate0,translate1,translate2):\n",
    "    global incl1_pars\n",
    "    incl1_pars=CEpars(D=D,L1=L1,L2=L2,d=d,nlevel0=nlevel0,nlevel1=nlevel1,\n",
    "                      translate0=translate0,translate1=translate1,translate2=translate2)\n",
    "\n",
    "def set_incl2_pars(D,L1,L2,d,nlevel0,nlevel1,translate0,translate1,translate2):\n",
    "    global incl2_pars\n",
    "    incl2_pars=CEpars(D=D,L1=L1,L2=L2,d=d,nlevel0=nlevel0,nlevel1=nlevel1,\n",
    "                      translate0=translate0,translate1=translate1,translate2=translate2)"
   ]
  },
  {
   "cell_type": "code",
   "execution_count": null,
   "id": "5c868e3f-4ce1-48af-98b7-733420befd24",
   "metadata": {
    "jupyter": {
     "source_hidden": true
    },
    "tags": []
   },
   "outputs": [],
   "source": [
    "# Create a class and global instances for simulation parameters\n",
    "global sim_pars\n",
    "class SimPars():\n",
    "    \"\"\"\n",
    "    A simple class to facilitate acquiring and passing VRS simulation\n",
    "    parameters with interactive_output widgets.\n",
    "    \"\"\"\n",
    "    def __init__(self,dudz=0.,dvdz=0.,dwdx=0.,U0=0.,U1=0.,U2=0.,\n",
    "                 Tmax=20.,cil_speed=0.5*1000*1e-6,\n",
    "                 phi=pi/3.,theta=-pi/4.,psi=pi):\n",
    "        self.dudz = dudz\n",
    "        self.dvdz = dvdz\n",
    "        self.dwdx = dwdx\n",
    "        self.U0 = U0\n",
    "        self.U1 = U1\n",
    "        self.U2 = U2\n",
    "        self.Tmax = Tmax\n",
    "        self.cil_speed = cil_speed\n",
    "        self.S_fixed = np.asarray([0.,0.,dudz,0.,0.,dvdz,dwdx,0.,0.])\n",
    "        self.U_const_fixed = np.asarray([U0,U1,U2])\n",
    "        self.XEinit = np.asarray([0.,0.,0.,phi,theta,psi])\n",
    "\n",
    "def set_sim_pars(dudz,dvdz,dwdx,Tmax,cil_speed,phi,theta,psi):\n",
    "    global sim_pars\n",
    "    sim_pars=SimPars(dudz=dudz,dvdz=dvdz,dwdx=dwdx,\n",
    "                 Tmax=Tmax,cil_speed=cil_speed,\n",
    "                 phi=phi,theta=theta,psi=psi)\n",
    "\n",
    "print('Simulation parameters class defined...')"
   ]
  },
  {
   "cell_type": "code",
   "execution_count": null,
   "id": "95d8bb16-6290-43da-b246-67913f6a49c9",
   "metadata": {
    "jupyter": {
     "source_hidden": true
    }
   },
   "outputs": [],
   "source": []
  },
  {
   "cell_type": "markdown",
   "id": "c757cab7-64a9-4d63-a48a-970ccd4d5842",
   "metadata": {},
   "source": [
    "<hr style=\"border:10px solid red\">"
   ]
  },
  {
   "cell_type": "markdown",
   "id": "762f44b8-dab9-428a-8bbc-72acf09ad06a",
   "metadata": {
    "editable": true,
    "slideshow": {
     "slide_type": ""
    },
    "tags": []
   },
   "source": [
    "## Loading a larval shape <a id='section_loadshape'></a>"
   ]
  },
  {
   "cell_type": "code",
   "execution_count": null,
   "id": "6e1ef224-714e-491e-b792-33dc125e9fd7",
   "metadata": {
    "jupyter": {
     "source_hidden": true
    },
    "tags": []
   },
   "outputs": [],
   "source": [
    "# Create and display a FileChooser widget\n",
    "fc_l = FileChooser()\n",
    "fc_l.filter_pattern = '*.pickle'\n",
    "fc_l.title = '<b>Choose a filename for this larval morphology:</b>'\n",
    "fc_l.default_filename = 'new_morph.pickle'\n",
    "\n",
    "display(fc_l)\n",
    "#print(fc_l.selected_path)\n",
    "#print(fc_l.selected_filename)\n",
    "#print(fc_l.selected)"
   ]
  },
  {
   "cell_type": "code",
   "execution_count": null,
   "id": "985e3611-757a-4a2b-8b8f-c99f92b096ad",
   "metadata": {
    "jupyter": {
     "source_hidden": true
    },
    "tags": []
   },
   "outputs": [],
   "source": [
    "# Load the default morphology file, to get a viable scenario for \"Run all cells\" setup\n",
    "#M = mrph.Morphology()\n",
    "with open(fc_l.default_filename, 'rb') as handle:\n",
    "        #print(f'Loading morphology as {fc_l.default_filename}')\n",
    "        M = pickle.load(handle)\n",
    "        print(f'Loaded morphology file {fc_l.default_filename}')"
   ]
  },
  {
   "cell_type": "code",
   "execution_count": null,
   "id": "985325eb-17d0-431f-a07c-e8e5d1cd0ffe",
   "metadata": {
    "jupyter": {
     "source_hidden": true
    },
    "tags": []
   },
   "outputs": [],
   "source": [
    "button4 = widgets.Button(description=\"Load file\")\n",
    "output4 = widgets.Output()\n",
    "\n",
    "buttonsL = widgets.HBox([button4, output4])\n",
    "display(buttonsL)\n",
    "\n",
    "@output4.capture()\n",
    "def on_button_clicked4(b):\n",
    "    with open(fc_l.selected, 'rb') as handle:\n",
    "        #print(f'Loading default morphology as {fc_l.selected}')\n",
    "        M = pickle.load(handle)\n",
    "        print(f'Loaded default morphology file {fc_l.selected}')\n",
    "\n",
    "button4.on_click(on_button_clicked4)"
   ]
  },
  {
   "cell_type": "markdown",
   "id": "6bbf1d9f-73e9-4270-9bf1-03ad1785f8b5",
   "metadata": {},
   "source": [
    "<hr style=\"border:10px solid red\">"
   ]
  },
  {
   "cell_type": "markdown",
   "id": "74f0765e-78da-4e9e-81f2-1c2508e2aa05",
   "metadata": {
    "tags": []
   },
   "source": [
    "## Define the simulation parameters\n",
    "This cell sets parameters for simulating how the larval shape swims under different flow conditions.\n",
    "\n",
    "The parameters are:\n",
    "- $\\frac{dU}{dz}$: change of horizontal velocity ($U$) across depth ($z$)\n",
    "- $\\frac{dV}{dz}$: change of horizontal velocity ($V$) across depth ($z$)\n",
    "- $\\frac{dW}{dx}$: change of vertical velocity ($W$) in the $x$ direction\n",
    "- $\\phi$, $\\theta$, $\\psi$: initial Euler angle\n",
    "- $T_{max}$: duration of time to simulate\n",
    "- $V_{cilia}$: velocity of cilia on the larval surface (red: maximum speed; blue: 0 speed)"
   ]
  },
  {
   "cell_type": "code",
   "execution_count": null,
   "id": "466286c3-b4f2-430e-a300-dde7173de673",
   "metadata": {
    "editable": true,
    "jupyter": {
     "source_hidden": true
    },
    "slideshow": {
     "slide_type": ""
    },
    "tags": []
   },
   "outputs": [],
   "source": [
    "# Set simulation parameters\n",
    "spars_dudz=widgets.FloatText(value=0.,width=10,description = r\"$\\frac{dU}{dz}$\")\n",
    "spars_dvdz=widgets.FloatText(value=0.,description = r\"$\\frac{dV}{dz}$\")\n",
    "spars_dwdx=widgets.FloatText(value=0.,description = r\"$\\frac{dW}{dx}$\")\n",
    "spars_Tmax=widgets.FloatText(value=10,description = r\"$T_{max}$\")\n",
    "spars_cil_speed=widgets.FloatText(value=500.e-6,description = r\"$V_{cilia}$\")\n",
    "spars_phi=widgets.FloatText(value=pi/3.,description = r\"$\\phi$\")\n",
    "spars_theta=widgets.FloatText(value=pi/4.,description = r\"$\\theta$\")\n",
    "spars_psi=widgets.FloatText(value=pi,description = r\"$\\psi$\")\n",
    "\n",
    "#translate=[0.,0.,40.e-6]\n",
    "\n",
    "ui0s = widgets.VBox([spars_dudz,spars_phi,spars_Tmax])\n",
    "ui1s = widgets.VBox([spars_dvdz,spars_theta,spars_cil_speed])\n",
    "ui2s = widgets.VBox([spars_dwdx,spars_psi])\n",
    "ui012s = widgets.HBox([ui0s,ui1s,ui2s])\n",
    "\n",
    "\n",
    "outs = widgets.interactive_output(set_sim_pars,{'dudz':spars_dudz,'dvdz':spars_dvdz,'dwdx':spars_dwdx,'Tmax':spars_Tmax,\n",
    "                                                'cil_speed':spars_cil_speed,'phi':spars_phi,\n",
    "                                                'theta':spars_theta,\n",
    "                                                'psi':spars_psi})\n",
    "display(ui012s,outs)"
   ]
  },
  {
   "cell_type": "markdown",
   "id": "1d3c5907-80c1-484d-a58a-698fc7c04cf6",
   "metadata": {
    "editable": true,
    "slideshow": {
     "slide_type": ""
    },
    "tags": []
   },
   "source": [
    "## To run a simulation <a id='section_runshape'></a>\n",
    "Hit the **Reset** button to create a new simulation window. \n",
    "\n",
    "Hit **Run** to simulate swimming of the larval shape you defined using the flow parameters you defined.\n",
    "\n",
    "In this window, the left hand side plot shows the trajectory of the larva (blue lines), starting at the position (0,0,0) which is marked with a red dot. The simulated time, and the larval position and velocity are given at the top of the plot.\n",
    "\n",
    "The right hand side plot shows the orientation of the larval shape. The Euler angles specifying the larva's orientation are given at the top of the plot.\n",
    "\n",
    "The simulation will plot multiple trajectories in the same plot, to make it easy to compare the effects of different shear rates. You can save the plot using the disk icon at the top of the simulation window. \n",
    "\n",
    "- **To run another simulation using the same simulation window, change e.g. the shear or ciliary velocity and click the `Run` button again. Make sure to press the `enter` key after you change parameters.**\n",
    "- **To run another simulation using a new simulation window, click the `Reset` button and then the `Run` button. The simulation will be plotted in a new graphics window below the previous one.**\n"
   ]
  },
  {
   "cell_type": "code",
   "execution_count": null,
   "id": "d55054ed-a599-43ad-8ea1-65c39f8e0c75",
   "metadata": {
    "editable": true,
    "jupyter": {
     "source_hidden": true
    },
    "slideshow": {
     "slide_type": ""
    },
    "tags": []
   },
   "outputs": [],
   "source": [
    "global Sim\n",
    "button = widgets.Button(description=\"Reset\")\n",
    "output = widgets.Output()\n",
    "button2 = widgets.Button(description=\"Run\")\n",
    "output2 = widgets.Output()\n",
    "\n",
    "buttons = widgets.HBox([button, output, button2, output2])\n",
    "display(buttons)\n",
    "\n",
    "#pyplot.ion()\n",
    "pyplot.ioff()\n",
    "\n",
    "@output.capture()\n",
    "def on_button_clicked(b):\n",
    "    global Sim, sim_pars\n",
    "    with pyplot.ioff():\n",
    "        figS = pyplot.figure(num=58)\n",
    "    Sim = flw.VRSsim(morph=M,fignum=58)\n",
    "    #Sim = flw.VRSsim(morph=M,fig=figS,fignum=58)\n",
    "    #Sim = flw.VRSsim(morph=M,fig=figS)\n",
    "\n",
    "@output2.capture()\n",
    "def on_button_clicked2(b):\n",
    "    global Sim,sim_pars\n",
    "    Sim.run(XEinit=sim_pars.XEinit,Tmax=sim_pars.Tmax,cil_speed=sim_pars.cil_speed,U_const_fixed=sim_pars.U_const_fixed,S_fixed=sim_pars.S_fixed)\n",
    "\n",
    "#pyplot.ioff()\n",
    "button.on_click(on_button_clicked)\n",
    "#pyplot.ion()\n",
    "button2.on_click(on_button_clicked2)"
   ]
  },
  {
   "cell_type": "markdown",
   "id": "63ccb201-9f63-413f-96f5-e19004591d39",
   "metadata": {},
   "source": [
    "<hr style=\"border:10px solid red\">"
   ]
  }
 ],
 "metadata": {
  "kernelspec": {
   "display_name": "Python 3 (ipykernel)",
   "language": "python",
   "name": "python3"
  },
  "language_info": {
   "codemirror_mode": {
    "name": "ipython",
    "version": 3
   },
   "file_extension": ".py",
   "mimetype": "text/x-python",
   "name": "python",
   "nbconvert_exporter": "python",
   "pygments_lexer": "ipython3",
   "version": "3.10.12"
  }
 },
 "nbformat": 4,
 "nbformat_minor": 5
}
