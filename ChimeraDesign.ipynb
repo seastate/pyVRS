{
 "cells": [
  {
   "cell_type": "markdown",
   "id": "d23995e0-8a04-4dd6-bfce-3e949549bac2",
   "metadata": {
    "editable": true,
    "slideshow": {
     "slide_type": ""
    },
    "tags": []
   },
   "source": [
    "# 🧮 Design and save early larval morphologies \n",
    "This is a graphical interface for designing and saving early larval forms for exploring swimming and stability characteristics with the pyVRS (Python Volume-Rendered Swimmer) model of low-Reynolds number hydrodynamics. It has a simplified interface for entering parameters to investigate stability and movement of early-stage larval morphologies (e.g., eggs, blastulae and gastrulae) approximated by \"chimeras\" of semi-spheroids. These early larval shapes are constructed by joining two half-spheroids about a common central radius. \n",
    "\n",
    "By choosing different spheroid shapes (larger vs. smaller central radii; longer vs. shorter semi-spheroids, etc.) you can construct different surface shapes that resemble the outside surfaces of early stages in larval development. You can assign the main volume inside this surface to have a density that reflects the larval tissue within this surface. \n",
    "\n",
    "You can also add inclusions, constructed from two half-spheroids, to reflect the inner structure of early stage larvae. You can assign different densities to model the effects of internal volumes of these inclusions, to reflect whether they are filled with seawater, calcium carbonate, lipid, or other materials.\n",
    "\n",
    "The resulting shapes do not represent any particular species and stage exactly, but they approximate early stages including eggs, gastrulae and blastulae from a wide diversity of species, and an even wider diversity of hypothetical larval morphologies that do not appear in nature. This makes these shapes good tools for exploring the consequences of size, morphological and physiological features, and properties of the fluid environment such as shear."
   ]
  },
  {
   "cell_type": "markdown",
   "id": "ebe4cfc0-ed35-4d16-b7aa-b897925f1b4c",
   "metadata": {
    "editable": true,
    "slideshow": {
     "slide_type": ""
    },
    "tags": []
   },
   "source": [
    "## How to use this notebook\n",
    "This notebook is set up with \"cells\" that contain either Python code or explanatory text. You can see the cells by the bars and numbers on the left side of the notebook window.\n",
    "- **To set up the codes for exploring early stage larval morphology, pull down the `Run` menu and select `Run All Cells`**\n",
    "\n",
    "### Executing Jupyter notebook cells\n",
    "- **To execute a code cell, select it and hold down the shift key while typing the `enter` key.**\n",
    "- **To reset the model to its initial state, pull down the `Run` menu and select `Restart Kernel and Run All Cells`**\n",
    "\n",
    "### Using graphics output\n",
    "When the model starts, it creates a larval shape using default parameters. That shape is shown in a separate, resizable graphics window. You can:\n",
    "- **Click and drag on graphics windows to control the viewing angle.**\n",
    "- **Click on the floppy disk icon to save graphics windows as images. Use informative names like `default_shape.svg` so that you can tell one image from another later on.**\n",
    "\n",
    "### Selecting a larval shape\n",
    "Below, you can adjust geometrical parameters to select a larval shape:\n",
    "- [Use input boxes to modify a shape or define a new one, and then calculate its hydrodynamic properties](#section_defshape)\n",
    "\n",
    "Experiment by changing one or more geometrical parameters, and plotting the result.\n",
    "\n",
    "When you have a morphology that you are interested in simulating, **save that shape to a file** which you can import into the `ChimeraSwim` simulation.\n",
    "-  [Save a file containing the current shape for use in a future session](#section_saveshape)\n",
    "\n"
   ]
  },
  {
   "cell_type": "code",
   "execution_count": null,
   "id": "dfa5777c-6244-4f4a-936f-b8a370d2d20a",
   "metadata": {
    "editable": true,
    "jupyter": {
     "source_hidden": true
    },
    "slideshow": {
     "slide_type": ""
    },
    "tags": []
   },
   "outputs": [],
   "source": [
    "# Set up graphics environment\n",
    "#%matplotlib inline\n",
    "#%matplotlib notebook\n",
    "#import IPython\n",
    "%matplotlib widget\n",
    "#%matplotlib ipympl\n",
    "from matplotlib import pyplot\n",
    "pyplot.ioff()\n",
    "#pyplot.ion()\n",
    "from mpl_interactions import ipyplot as iplt\n",
    "from mpl_toolkits import mplot3d\n",
    "from matplotlib.colors import LightSource\n",
    "# Import modules\n",
    "import numpy as np\n",
    "from math import pi\n",
    "import os\n",
    "# set up path to submodules\n",
    "import sys\n",
    "#sys.path.append('../../../submodules/')\n",
    "#sys.path.append('../../../submodules/pyVRS')\n",
    "import pyVRSmorph as mrph\n",
    "import pyVRSflow as flw\n",
    "from meshSpheroid import chimeraSpheroid\n",
    "# Import widget infrastructure\n",
    "from ipywidgets import interact, interactive, fixed, interact_manual, Output\n",
    "import ipywidgets as widgets\n",
    "from IPython import display as idisplay\n",
    "import pickle\n",
    "from ipyfilechooser import FileChooser\n",
    "from copy import deepcopy"
   ]
  },
  {
   "cell_type": "code",
   "execution_count": null,
   "id": "b7a686bc-3a9e-4283-8356-c05faded9d43",
   "metadata": {
    "jupyter": {
     "source_hidden": true
    },
    "tags": []
   },
   "outputs": [],
   "source": [
    "# Create a class and global instances for morphology parameters\n",
    "global surf_pars, incl1_pars, incl2_pars\n",
    "class CEpars():\n",
    "    \"\"\"\n",
    "    A simple class to facilitate acquiring and passing chimera ellipsoid\n",
    "    parameters with interactive_output widgets.\n",
    "    \"\"\"\n",
    "    def __init__(self,D=50.e-6,L1=100.e-6,L2=-40.e-6,d=6e-6,nlevel0=16,nlevel1=12,\n",
    "                      translate0=0.,translate1=0.,translate2=0.):\n",
    "        self.D = D\n",
    "        self.L1 = L1\n",
    "        self.L2 = L2\n",
    "        self.Ls = [L1,L2]\n",
    "        self.d = d\n",
    "        self.nlevels = [nlevel0,nlevel1]\n",
    "        self.translate = [translate0,translate1,translate2]\n",
    "\n",
    "def set_surf_pars(D,L1,L2,d,nlevel0,nlevel1):\n",
    "    global surf_pars\n",
    "    surf_pars=CEpars(D=D,L1=L1,L2=L2,d=d,nlevel0=nlevel0,nlevel1=nlevel1)\n",
    "\n",
    "def set_incl1_pars(D,L1,L2,d,nlevel0,nlevel1,translate0,translate1,translate2):\n",
    "    global incl1_pars\n",
    "    incl1_pars=CEpars(D=D,L1=L1,L2=L2,d=d,nlevel0=nlevel0,nlevel1=nlevel1,\n",
    "                      translate0=translate0,translate1=translate1,translate2=translate2)\n",
    "\n",
    "def set_incl2_pars(D,L1,L2,d,nlevel0,nlevel1,translate0,translate1,translate2):\n",
    "    global incl2_pars\n",
    "    incl2_pars=CEpars(D=D,L1=L1,L2=L2,d=d,nlevel0=nlevel0,nlevel1=nlevel1,\n",
    "                      translate0=translate0,translate1=translate1,translate2=translate2)"
   ]
  },
  {
   "cell_type": "markdown",
   "id": "63ccb201-9f63-413f-96f5-e19004591d39",
   "metadata": {},
   "source": [
    "<hr style=\"border:10px solid red\">"
   ]
  },
  {
   "cell_type": "markdown",
   "id": "d7d042cc-c63c-40fe-b56d-6cb4c2621afa",
   "metadata": {
    "editable": true,
    "slideshow": {
     "slide_type": ""
    },
    "tags": []
   },
   "source": [
    "## To design a new larval shape: <a id='section_defshape'></a>\n",
    "- **Scroll to the shape parameter input boxes (there are separate parameter sets for the larval surface and inclusions).**\n",
    "- **Change one or more shape parameters, and re-execute the code cell below to calculate and visualize the shape.**\n",
    "- **When you are satisfied with the shape, re-execute the next code cells to recalculate flow around the new shapes.**\n",
    "- **Run the simulation as before, with `Reset` to create a new simulation window and `Run` to visualize swimming trajectories.**"
   ]
  },
  {
   "cell_type": "markdown",
   "id": "51e40eed-8b11-42cf-96f8-45a5ea43002d",
   "metadata": {
    "editable": true,
    "slideshow": {
     "slide_type": ""
    },
    "tags": []
   },
   "source": [
    "### Define the outer larval shape \n",
    "![alt text](ChimeraSpheroid_geometry2.png \"Surface shape parameters\")\n",
    "\n",
    "The text boxes below enable you to set the shape parameters for the outside of a model larva. To change parameters, enter a new value and hit `enter`. The parameters are:\n",
    "- $D$: central diameter\n",
    "- $L_1$: length of the top semi-ellipse (distance from the upper tip to the equator)\n",
    "- $L_2$: length of the bottom semi-ellipse (distance from the lower tip to the equator)\n",
    "\n",
    "Additional parameters (that you may not have to adjust) specify the layout of triangles on the larval surface. \n",
    "- $d$, a parameter specifying the number of columns of triangles on the top and bottom parts of the larval surface \n",
    "- $n_0$ and $n_1$ specify the number of rows of triangles on the top and bottom parts of the larval surface\n"
   ]
  },
  {
   "cell_type": "code",
   "execution_count": null,
   "id": "753dce3c-de12-4be4-90f8-b4e35f1ce513",
   "metadata": {
    "jupyter": {
     "source_hidden": true
    },
    "tags": []
   },
   "outputs": [],
   "source": [
    "# Set parameters for surface chimera\n",
    "surf_D=widgets.FloatText(value=50.e-6,width=10,description = r\"$D$\")\n",
    "surf_d=widgets.FloatText(value=6.e-6,description = r\"$d$\")\n",
    "surf_L1=widgets.FloatText(value=100.e-6,description = r\"$L_1$\")\n",
    "surf_nlevel0=widgets.IntText(value=16,description = r\"$n_0$\")\n",
    "surf_L2=widgets.FloatText(value=40.e-6,description = r\"$L_2$\")\n",
    "surf_nlevel1=widgets.IntText(value=12,description = r\"$n_1$\")\n",
    "\n",
    "ui0 = widgets.VBox([surf_D,surf_d])\n",
    "ui1 = widgets.VBox([surf_L1,surf_nlevel0])\n",
    "ui2 = widgets.VBox([surf_L2,surf_nlevel1])\n",
    "ui012 = widgets.HBox([ui0,ui1,ui2])\n",
    "\n",
    "out = widgets.interactive_output(set_surf_pars,{'D':surf_D,'L1':surf_L1,'L2':surf_L2,'d':surf_d,\n",
    "                                                'nlevel0':surf_nlevel0,'nlevel1':surf_nlevel1})\n",
    "display(ui012,out)"
   ]
  },
  {
   "cell_type": "markdown",
   "id": "72f3e423-5e3b-4ac6-8a2e-095ad57a64fa",
   "metadata": {
    "editable": true,
    "slideshow": {
     "slide_type": ""
    },
    "tags": []
   },
   "source": [
    "### Define an inclusion \n",
    "The text boxes below enable you to set the shape parameters for inclusions inside a model larva. The parameters have the same interpretations as for the outer shape:\n",
    "- $a$: central radius\n",
    "- $b_0$: length of the top semi-ellipse\n",
    "- $b_1$: length of the bottom semi-ellipse (a negative number, because this semi-ellipse points downwards)\n",
    "\n",
    "Additional parameters (that you may not have to adjust) specify the layout of triangles on the inclusion. \n",
    "- $d$, a parameter specifying the number of columns of triangles on the top and bottom parts of the inclusion \n",
    "- $n_0$ and $n_1$ specify the number of rows of triangles on the top and bottom parts of the inclusion\n",
    "\n",
    "Make sure the surfaces do not intersect (that is, the inclusion is entirely within the outer surface, etc.)!"
   ]
  },
  {
   "cell_type": "code",
   "execution_count": null,
   "id": "5033eda4-608f-43cd-9bd9-4c7c65d34d14",
   "metadata": {
    "editable": true,
    "jupyter": {
     "source_hidden": true
    },
    "slideshow": {
     "slide_type": ""
    },
    "tags": []
   },
   "outputs": [],
   "source": [
    "# Set parameters for the inclusion chimera\n",
    "incl1_D=widgets.FloatText(value=30.e-6,width=10,description = r\"$D$\")\n",
    "incl1_d=widgets.FloatText(value=5.e-6,description = r\"$d$\")\n",
    "incl1_L1=widgets.FloatText(value=50.e-6,description = r\"$L_1$\")\n",
    "incl1_nlevel0=widgets.IntText(value=12,description = r\"$n_0$\")\n",
    "incl1_L2=widgets.FloatText(value=20.e-6,description = r\"$L_2$\")\n",
    "incl1_nlevel1=widgets.IntText(value=8,description = r\"$n_1$\")\n",
    "incl1_translate0=widgets.FloatText(value=0.,description = r\"$x$ offset\")\n",
    "incl1_translate1=widgets.FloatText(value=0.,description = r\"$y$ offset\")\n",
    "incl1_translate2=widgets.FloatText(value=40.e-6,description = r\"$z$ offset\")\n",
    "\n",
    "#translate=[0.,0.,40.e-6]\n",
    "\n",
    "ui0i = widgets.VBox([incl1_D,incl1_d,incl1_translate0])\n",
    "ui1i = widgets.VBox([incl1_L1,incl1_nlevel0,incl1_translate1])\n",
    "ui2i = widgets.VBox([incl1_L2,incl1_nlevel1,incl1_translate2])\n",
    "ui012i = widgets.HBox([ui0i,ui1i,ui2i])\n",
    "\n",
    "\n",
    "outi = widgets.interactive_output(set_incl1_pars,{'D':incl1_D,'L1':incl1_L1,'L2':incl1_L2,'d':incl1_d,\n",
    "                                                'nlevel0':incl1_nlevel0,'nlevel1':incl1_nlevel1,\n",
    "                                                'translate0':incl1_translate0,\n",
    "                                                'translate1':incl1_translate1,\n",
    "                                                'translate2':incl1_translate2})\n",
    "display(ui012i,outi)"
   ]
  },
  {
   "cell_type": "markdown",
   "id": "c050de40-032b-468e-99d6-ef4c9608021d",
   "metadata": {
    "editable": true,
    "slideshow": {
     "slide_type": ""
    },
    "tags": []
   },
   "source": [
    "### Visualize the new larval shape\n",
    "Execute this code cell to plot out the shape of the larva specified by the parameters you entered in the input boxes above. If you're happy with the goemetry, proceed to the next step. If not, change the parameters and re-execute this cell again to display the new shape."
   ]
  },
  {
   "cell_type": "code",
   "execution_count": null,
   "id": "92ac2f97-e492-4380-838c-fe50deb45a06",
   "metadata": {
    "editable": true,
    "jupyter": {
     "source_hidden": true
    },
    "slideshow": {
     "slide_type": ""
    },
    "tags": []
   },
   "outputs": [],
   "source": [
    "CEsurf = chimeraSpheroid(D=surf_pars.D,L1=surf_pars.L1,L2=surf_pars.L2,d=surf_pars.d,nlevels=surf_pars.nlevels)\n",
    "CEincl = chimeraSpheroid(D=incl1_pars.D,L1=incl1_pars.L1,L2=incl1_pars.L2,d=incl1_pars.d,nlevels=incl1_pars.nlevels,translate=incl1_pars.translate)\n",
    "Mnew = mrph.Morphology()\n",
    "Mnew.check_normals = False\n",
    "Mnew.gen_surface(vectors=CEsurf.vectors)\n",
    "# materials parameter can be 'seawater', 'tissue', 'lipid' or 'calcite' \n",
    "Mnew.gen_inclusion(vectors=CEincl.vectors,material='freshwater',immersed_in=1)\n",
    "\n",
    "figureM = pyplot.figure(num=57)\n",
    "axesM = figureM.add_subplot(projection='3d')\n",
    "Mnew.plot_layers(axes=axesM)\n",
    "\n",
    "figureM.canvas.draw()\n",
    "figureM.canvas.flush_events()\n",
    "pyplot.pause(0.25)\n",
    "#pyplot.ioff()"
   ]
  },
  {
   "cell_type": "markdown",
   "id": "e1228035-cf40-4e65-a819-a38f3015d7e3",
   "metadata": {
    "editable": true,
    "slideshow": {
     "slide_type": ""
    },
    "tags": []
   },
   "source": [
    "### Compute the fluid forces\n",
    "Executing this cell will compute the geometry and fluid flow around the model larva. \n",
    "\n",
    "Depending on the number of triangle and the speed of your computer, it may take a few seconds to complete: \n",
    "- When it starts calculating, it prints out \"Calculating inverse...\". \n",
    "- When the calculation is complete, it prints out \"Done calculating inverse.\"\n",
    "- The output includes statistics like the magnitudes and centers of buoyancy and gravity.\n",
    "\n",
    "**You need to run this just once for each larval shape. You do not need to rerun it unless you change the larval shape.**"
   ]
  },
  {
   "cell_type": "code",
   "execution_count": null,
   "id": "3d6e3b49-f4a2-45fd-a6e9-aa0b3e02e134",
   "metadata": {
    "editable": true,
    "jupyter": {
     "source_hidden": true
    },
    "slideshow": {
     "slide_type": ""
    },
    "tags": []
   },
   "outputs": [],
   "source": [
    "button6 = widgets.Button(description=\"Calculate flow\")\n",
    "output6 = widgets.Output()\n",
    "\n",
    "buttonsC = widgets.HBox([button6, output6])\n",
    "display(buttonsC)\n",
    "\n",
    "@output6.capture()\n",
    "def on_button_clicked6(b):\n",
    "    Mnew.body_calcs()\n",
    "    Mnew.flow_calcs(surface_layer=1)\n",
    "    \n",
    "button6.on_click(on_button_clicked6)"
   ]
  },
  {
   "cell_type": "markdown",
   "id": "c8af5f17-ea19-4fa3-a27d-5042a59f59d1",
   "metadata": {},
   "source": [
    "## Saving a larval shape <a id='section_saveshape'></a>"
   ]
  },
  {
   "cell_type": "code",
   "execution_count": null,
   "id": "cf9b0939-a5a6-44af-8486-7465ae0e824c",
   "metadata": {
    "jupyter": {
     "source_hidden": true
    }
   },
   "outputs": [],
   "source": [
    "# Create and display a FileChooser widget\n",
    "fc_s = FileChooser()\n",
    "fc_s.filter_pattern = '*.pickle'\n",
    "fc_s.title = '<b>Choose a filename for this larval morphology:</b>'\n",
    "fc_s.default_filename = 'new_morph.pickle'\n",
    "\n",
    "display(fc_s)"
   ]
  },
  {
   "cell_type": "code",
   "execution_count": null,
   "id": "c34b9836-cd32-4d68-bf54-0a86be5c8077",
   "metadata": {
    "jupyter": {
     "source_hidden": true
    },
    "tags": []
   },
   "outputs": [],
   "source": [
    "button3 = widgets.Button(description=\"Save file\")\n",
    "output3 = widgets.Output()\n",
    "\n",
    "buttonsS = widgets.HBox([button3, output3])\n",
    "display(buttonsS)\n",
    "\n",
    "@output3.capture()\n",
    "def on_button_clicked3(b):\n",
    "    with open(fc_s.selected, 'wb') as handle:\n",
    "        #print(f'Saving morphology as {fc_s.selected}')\n",
    "        Mnew.clear_big_arrays()\n",
    "        pickle.dump(Mnew, handle, protocol=pickle.HIGHEST_PROTOCOL)\n",
    "        print(f'Saved morphology as {fc_s.selected}')\n",
    "\n",
    "button3.on_click(on_button_clicked3)"
   ]
  },
  {
   "cell_type": "code",
   "execution_count": null,
   "id": "3f9d14da-08d5-4650-ac1f-cf55e0abb49f",
   "metadata": {
    "editable": true,
    "jupyter": {
     "source_hidden": true
    },
    "slideshow": {
     "slide_type": ""
    },
    "tags": []
   },
   "outputs": [],
   "source": []
  }
 ],
 "metadata": {
  "kernelspec": {
   "display_name": "Python 3 (ipykernel)",
   "language": "python",
   "name": "python3"
  },
  "language_info": {
   "codemirror_mode": {
    "name": "ipython",
    "version": 3
   },
   "file_extension": ".py",
   "mimetype": "text/x-python",
   "name": "python",
   "nbconvert_exporter": "python",
   "pygments_lexer": "ipython3",
   "version": "3.10.12"
  }
 },
 "nbformat": 4,
 "nbformat_minor": 5
}
