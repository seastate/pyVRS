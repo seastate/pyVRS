{
 "cells": [
  {
   "cell_type": "markdown",
   "id": "b2ae7595-1ecc-4a7c-8d0b-7aee1053ac9b",
   "metadata": {},
   "source": [
    "# Swimming of early larval stages in still water and shear \n",
    "This is a graphical interface for using the pyVRS (Python Volume-Rendered Swimmer) model of low-Reynolds number hydrodynamics. It has a simplified interface for entering parameters to investigate stability and movement of early-stage larval morphologies (e.g., eggs, blastulae and gastrulae) approximated by \"chimeras\" of semi-spheroids. These early larval shapes are constructed by joining two half-spheroids about a common central radius. \n",
    "\n",
    "By choosing different spheroid shapes (larger vs. smaller central radii; longer vs. shorter semi-spheroids, etc.) you can construct different surface shapes that resemble the outside surfaces of early stages in larval development. You can assign the main volume inside this surface a density that reflects the larval tissue within this surface. \n",
    "\n",
    "You can also add inclusions, constructed from two half-spheroids, to reflect the inner structure of early stage larvae. You can assign different densities to model the effects of internal volumes of these inclusions, to reflect whether they are filled with seawater, calcium carbonate, lipid, or other materials.\n",
    "\n",
    "The resulting shapes do not represent any particular species and stage exactly, but they approximate early stages including eggs, gastrulae and blastulae from a wide diversity of species, and an even wider diversity of hypothetical larval morphologies that do not appear in nature. This makes these shapes good tools for exploring the consequences of size, morphological and physiological features, and properties of the fluid environment such as shear."
   ]
  },
  {
   "cell_type": "markdown",
   "id": "ebe4cfc0-ed35-4d16-b7aa-b897925f1b4c",
   "metadata": {},
   "source": [
    "## How to use this notebook\n",
    "This notebook is set up with \"cells\" that contain either Python code or explanatory text. You can see the cells by the bars and numbers on the left side of the notebook window.\n",
    "\n",
    "- **To start the model, pull down the `Run` menu and select `Run All Cells`**\n",
    "- **To execute a code cell, select it and hold down the shift key while typing the `enter` key.**\n",
    "- **To reset the model to its initial state, pull down the `Run` menu and select `Restart Kernel and Run All Cells`**\n",
    "\n",
    "When the model starts, it creates a larval shape using default parameters. That shape is shown in a separate, resizable graphics window. You can:\n",
    "- **Click and drag on graphics windows to control the viewing angle.**\n",
    "- **Click on the floppy disk icon to save graphics windows as images. Use informative names like `default_shape.svg` so that you can tell one image from another later on.**\n",
    "\n",
    "To run the simulation:\n",
    "- **Scroll down and click the `Reset` button to create a new simulation window.**\n",
    "- **Click the `Run` button to execute and visualize the simulation.**\n",
    "- **To run another simulation using the same simulation window, change e.g. the shear or ciliary velocity and click the `Run` button again. Make sure to press the `enter` key after you change parameters.\n",
    "- **To run another simulation using a new simulation window, click the `Reset` button and then the `Run` button.\n",
    "\n",
    "To change larval shape: \n",
    "- **Scroll to the shape parameter input boxes (there are separate parameter sets for the larval surface and inclusions).**\n",
    "- **Change one or more shape parameters, and re-execute the code cell below to calculate and visualize the shape.**\n",
    "- **When you are satisfied with the shape, re-execute the next code cells to recalculate flow around the new shapes.**\n",
    "- **Run the simulation as before, with `Reset` to create a new simulation window and `Run` to visualize swimming trajectories.**"
   ]
  },
  {
   "cell_type": "code",
   "execution_count": null,
   "id": "dfa5777c-6244-4f4a-936f-b8a370d2d20a",
   "metadata": {
    "jupyter": {
     "source_hidden": true
    },
    "tags": []
   },
   "outputs": [],
   "source": [
    "# Set up graphics environment\n",
    "#%matplotlib inline\n",
    "#%matplotlib notebook\n",
    "#import IPython\n",
    "%matplotlib widget\n",
    "#%matplotlib ipympl\n",
    "from matplotlib import pyplot\n",
    "pyplot.ioff()\n",
    "#pyplot.ion()\n",
    "from mpl_interactions import ipyplot as iplt\n",
    "from mpl_toolkits import mplot3d\n",
    "from matplotlib.colors import LightSource\n",
    "# Import modules\n",
    "import numpy as np\n",
    "from math import pi\n",
    "import os\n",
    "# set up path to submodules\n",
    "import sys\n",
    "#sys.path.append('../../../submodules/')\n",
    "#sys.path.append('../../../submodules/pyVRS')\n",
    "import pyVRSmorph as mrph\n",
    "import pyVRSflow as flw\n",
    "from meshSpheroid import chimeraSpheroid\n",
    "# Import widget infrastructure\n",
    "from ipywidgets import interact, interactive, fixed, interact_manual\n",
    "import ipywidgets as widgets\n",
    "from IPython import display as idisplay"
   ]
  },
  {
   "cell_type": "code",
   "execution_count": null,
   "id": "b7a686bc-3a9e-4283-8356-c05faded9d43",
   "metadata": {
    "jupyter": {
     "source_hidden": true
    },
    "tags": []
   },
   "outputs": [],
   "source": [
    "# Create a class and global instances for morphology parameters\n",
    "global surf_pars, incl1_pars, incl2_pars\n",
    "class CEpars():\n",
    "    \"\"\"\n",
    "    A simple class to facilitate acquiring and passing chimera ellipsoid\n",
    "    parameters with interactive_output widgets.\n",
    "    \"\"\"\n",
    "    def __init__(self,D=50.e-6,L1=100.e-6,L2=-40.e-6,d=6e-6,nlevel0=16,nlevel1=12,\n",
    "                      translate0=0.,translate1=0.,translate2=0.):\n",
    "        self.D = D\n",
    "        self.L1 = L1\n",
    "        self.L2 = L2\n",
    "        self.Ls = [L1,L2]\n",
    "        self.d = d\n",
    "        self.nlevels = [nlevel0,nlevel1]\n",
    "        self.translate = [translate0,translate1,translate2]\n",
    "\n",
    "def set_surf_pars(D,L1,L2,d,nlevel0,nlevel1):\n",
    "    global surf_pars\n",
    "    surf_pars=CEpars(D=D,L1=L1,L2=L2,d=d,nlevel0=nlevel0,nlevel1=nlevel1)\n",
    "\n",
    "def set_incl1_pars(D,L1,L2,d,nlevel0,nlevel1,translate0,translate1,translate2):\n",
    "    global incl1_pars\n",
    "    incl1_pars=CEpars(D=D,L1=L1,L2=L2,d=d,nlevel0=nlevel0,nlevel1=nlevel1,\n",
    "                      translate0=translate0,translate1=translate1,translate2=translate2)\n",
    "\n",
    "def set_incl2_pars(D,L1,L2,d,nlevel0,nlevel1,translate0,translate1,translate2):\n",
    "    global incl2_pars\n",
    "    incl2_pars=CEpars(D=D,L1=L1,L2=L2,d=d,nlevel0=nlevel0,nlevel1=nlevel1,\n",
    "                      translate0=translate0,translate1=translate1,translate2=translate2)"
   ]
  },
  {
   "cell_type": "code",
   "execution_count": null,
   "id": "5c868e3f-4ce1-48af-98b7-733420befd24",
   "metadata": {
    "jupyter": {
     "source_hidden": true
    },
    "tags": []
   },
   "outputs": [],
   "source": [
    "# Create a class and global instances for simulation parameters\n",
    "global sim_pars\n",
    "class SimPars():\n",
    "    \"\"\"\n",
    "    A simple class to facilitate acquiring and passing VRS simulation\n",
    "    parameters with interactive_output widgets.\n",
    "    \"\"\"\n",
    "    def __init__(self,dudz=0.,dvdz=0.,dwdx=0.,U0=0.,U1=0.,U2=0.,\n",
    "                 Tmax=20.,cil_speed=0.5*1000*1e-6,\n",
    "                 phi=pi/3.,theta=-pi/4.,psi=pi):\n",
    "        self.dudz = dudz\n",
    "        self.dvdz = dvdz\n",
    "        self.dwdx = dwdx\n",
    "        self.U0 = U0\n",
    "        self.U1 = U1\n",
    "        self.U2 = U2\n",
    "        self.Tmax = Tmax\n",
    "        self.cil_speed = cil_speed\n",
    "        self.S_fixed = np.asarray([0.,0.,dudz,0.,0.,dvdz,dwdx,0.,0.])\n",
    "        self.U_const_fixed = np.asarray([U0,U1,U2])\n",
    "        self.XEinit = np.asarray([0.,0.,0.,phi,theta,psi])\n",
    "\n",
    "def set_sim_pars(dudz,dvdz,dwdx,Tmax,cil_speed,phi,theta,psi):\n",
    "    global sim_pars\n",
    "    sim_pars=SimPars(dudz=dudz,dvdz=dvdz,dwdx=dwdx,\n",
    "                 Tmax=Tmax,cil_speed=cil_speed,\n",
    "                 phi=phi,theta=theta,psi=psi)\n",
    "\n",
    "print('Simulation parameters class defined...')"
   ]
  },
  {
   "cell_type": "markdown",
   "id": "1c5dab78-a70f-418e-9e1a-e57cd5939e30",
   "metadata": {
    "tags": []
   },
   "source": [
    "## Define the outer larval shape \n",
    "![alt text](ChimeraSpheroid_geometry2.png \"Surface shape parameters\")\n",
    "\n",
    "The text boxes below enable you to set the shape parameters for the outside of a model larva. To change parameters, enter a new value and hit `enter`. The parameters are:\n",
    "- $D$: central diameter\n",
    "- $L_1$: length of the top semi-ellipse (distance from the upper tip to the equator)\n",
    "- $L_2$: length of the bottom semi-ellipse (distance from the lower tip to the equator)\n",
    "\n",
    "Additional parameters (that you may not have to adjust) specify the layout of triangles on the larval surface. \n",
    "- $d$, a parameter specifying the number of columns of triangles on the top and bottom parts of the larval surface \n",
    "- $n_0$ and $n_1$ specify the number of rows of triangles on the top and bottom parts of the larval surface\n"
   ]
  },
  {
   "cell_type": "code",
   "execution_count": null,
   "id": "753dce3c-de12-4be4-90f8-b4e35f1ce513",
   "metadata": {
    "jupyter": {
     "source_hidden": true
    },
    "tags": []
   },
   "outputs": [],
   "source": [
    "# Set parameters for surface chimera\n",
    "surf_D=widgets.FloatText(value=50.e-6,width=10,description = r\"$D$\")\n",
    "surf_d=widgets.FloatText(value=6.e-6,description = r\"$d$\")\n",
    "surf_L1=widgets.FloatText(value=100.e-6,description = r\"$L_1$\")\n",
    "surf_nlevel0=widgets.IntText(value=16,description = r\"$n_0$\")\n",
    "surf_L2=widgets.FloatText(value=-40.e-6,description = r\"$L_2$\")\n",
    "surf_nlevel1=widgets.IntText(value=12,description = r\"$n_1$\")\n",
    "\n",
    "ui0 = widgets.VBox([surf_D,surf_d])\n",
    "ui1 = widgets.VBox([surf_L1,surf_nlevel0])\n",
    "ui2 = widgets.VBox([surf_L2,surf_nlevel1])\n",
    "ui012 = widgets.HBox([ui0,ui1,ui2])\n",
    "\n",
    "out = widgets.interactive_output(set_surf_pars,{'D':surf_D,'L1':surf_L1,'L2':surf_L2,'d':surf_d,\n",
    "                                                'nlevel0':surf_nlevel0,'nlevel1':surf_nlevel1})\n",
    "display(ui012,out)"
   ]
  },
  {
   "cell_type": "markdown",
   "id": "21c8df6b-aac0-47f4-a950-c9164d7dcd9c",
   "metadata": {},
   "source": [
    "## Define an inclusion \n",
    "The text boxes below enable you to set the shape parameters for inclusions inside a model larva. The parameters have the same interpretations as for the outer shape:\n",
    "- $a$: central radius\n",
    "- $b_0$: length of the top semi-ellipse\n",
    "- $b_1$: length of the bottom semi-ellipse (a negative number, because this semi-ellipse points downwards)\n",
    "\n",
    "Additional parameters (that you may not have to adjust) specify the layout of triangles on the inclusion. \n",
    "- $d$, a parameter specifying the number of columns of triangles on the top and bottom parts of the inclusion \n",
    "- $n_0$ and $n_1$ specify the number of rows of triangles on the top and bottom parts of the inclusion\n",
    "\n",
    "Make sure the surfaces do not intersect (that is, the inclusion is entirely within the outer surface, etc.)!"
   ]
  },
  {
   "cell_type": "code",
   "execution_count": null,
   "id": "5033eda4-608f-43cd-9bd9-4c7c65d34d14",
   "metadata": {
    "jupyter": {
     "source_hidden": true
    },
    "tags": []
   },
   "outputs": [],
   "source": [
    "# Set parameters for the inclusion chimera\n",
    "incl1_D=widgets.FloatText(value=30.e-6,width=10,description = r\"$D$\")\n",
    "incl1_d=widgets.FloatText(value=5.e-6,description = r\"$d$\")\n",
    "incl1_L1=widgets.FloatText(value=50.e-6,description = r\"$L_2$\")\n",
    "incl1_nlevel0=widgets.IntText(value=12,description = r\"$n_0$\")\n",
    "incl1_L2=widgets.FloatText(value=-20.e-6,description = r\"$L_2$\")\n",
    "incl1_nlevel1=widgets.IntText(value=8,description = r\"$n_1$\")\n",
    "incl1_translate0=widgets.FloatText(value=0.,description = r\"$x$ offset\")\n",
    "incl1_translate1=widgets.FloatText(value=0.,description = r\"$y$ offset\")\n",
    "incl1_translate2=widgets.FloatText(value=40.e-6,description = r\"$z$ offset\")\n",
    "\n",
    "#translate=[0.,0.,40.e-6]\n",
    "\n",
    "ui0i = widgets.VBox([incl1_D,incl1_d,incl1_translate0])\n",
    "ui1i = widgets.VBox([incl1_L1,incl1_nlevel0,incl1_translate1])\n",
    "ui2i = widgets.VBox([incl1_L2,incl1_nlevel1,incl1_translate2])\n",
    "ui012i = widgets.HBox([ui0i,ui1i,ui2i])\n",
    "\n",
    "\n",
    "outi = widgets.interactive_output(set_incl1_pars,{'D':incl1_D,'L1':incl1_L1,'L2':incl1_L2,'d':incl1_d,\n",
    "                                                'nlevel0':incl1_nlevel0,'nlevel1':incl1_nlevel1,\n",
    "                                                'translate0':incl1_translate0,\n",
    "                                                'translate1':incl1_translate1,\n",
    "                                                'translate2':incl1_translate2})\n",
    "display(ui012i,outi)"
   ]
  },
  {
   "cell_type": "markdown",
   "id": "725da317-6ba6-4ec7-958c-3adc3a1ba4af",
   "metadata": {},
   "source": [
    "## Compute the larval shape\n",
    "Execute this code cell to plot out the shape of the larva specified by the parameters you entered in the input boxes above. If you're happy with the goemetry, proceed to the next step. If not, change the parameters and re-execute this cell again to display the new shape."
   ]
  },
  {
   "cell_type": "code",
   "execution_count": null,
   "id": "a50e068c-a15f-4c6c-8158-02f2eb6119b5",
   "metadata": {
    "jupyter": {
     "source_hidden": true
    },
    "tags": []
   },
   "outputs": [],
   "source": [
    "CEsurf = chimeraSpheroid(D=surf_pars.D,L1=surf_pars.L1,L2=surf_pars.L2,d=surf_pars.d,nlevels=surf_pars.nlevels)\n",
    "CEincl = chimeraSpheroid(D=incl1_pars.D,L1=incl1_pars.L1,L2=incl1_pars.L2,d=incl1_pars.d,nlevels=incl1_pars.nlevels,translate=incl1_pars.translate)\n",
    "M = mrph.Morphology()\n",
    "M.check_normals = False\n",
    "M.gen_surface(vectors=CEsurf.vectors)\n",
    "# materials parameter can be 'seawater', 'tissue', 'lipid' or 'calcite' \n",
    "M.gen_inclusion(vectors=CEincl.vectors,material='freshwater',immersed_in=1)\n",
    "#with pyplot.ioff():\n",
    "#    figureM = pyplot.figure(num=57)\n",
    "#pyplot.ion()\n",
    "figureM = pyplot.figure(num=57)\n",
    "axesM = figureM.add_subplot(projection='3d')\n",
    "M.plot_layers(axes=axesM)\n",
    "\n",
    "figureM.canvas.draw()\n",
    "figureM.canvas.flush_events()\n",
    "pyplot.pause(0.25)\n",
    "#pyplot.ioff()"
   ]
  },
  {
   "cell_type": "markdown",
   "id": "3bdc919f-5385-4601-b115-5001618c13c2",
   "metadata": {},
   "source": [
    "## Compute the fluid forces\n",
    "Executing this cell will compute the geometry and fluid flow around the model larva. \n",
    "\n",
    "Depending on the number of triangle and the speed of your computer, it may take a few seconds to complete: \n",
    "- When it starts calculating, it prints out \"Calculating inverse...\". \n",
    "- When the calculation is complete, it prints out \"Done calculating inverse.\"\n",
    "- The output includes statistics like the magnitudes and centers of buoyancy and gravity.\n",
    "\n",
    "**You need to run this just once for each larval shape. You do not need to rerun it unless you change the larval shape.**"
   ]
  },
  {
   "cell_type": "code",
   "execution_count": null,
   "id": "3d6e3b49-f4a2-45fd-a6e9-aa0b3e02e134",
   "metadata": {
    "jupyter": {
     "source_hidden": true
    },
    "tags": []
   },
   "outputs": [],
   "source": [
    "M.body_calcs()\n",
    "M.flow_calcs(surface_layer=1)"
   ]
  },
  {
   "cell_type": "markdown",
   "id": "74f0765e-78da-4e9e-81f2-1c2508e2aa05",
   "metadata": {
    "tags": []
   },
   "source": [
    "## Define the simulation parameters\n",
    "This cell sets parameters for simulating how the larval shape swims under different flow conditions.\n",
    "\n",
    "The parameters are:\n",
    "- $\\frac{dU}{dz}$: change of horizontal velocity ($U$) across depth ($z$)\n",
    "- $\\frac{dV}{dz}$: change of horizontal velocity ($V$) across depth ($z$)\n",
    "- $\\frac{dW}{dx}$: change of vertical velocity ($W$) in the $x$ direction\n",
    "- $\\phi$, $\\theta$, $\\psi$: initial Euler angle\n",
    "- $T_{max}$: duration of time to simulate\n",
    "- $V_{cilia}$: velocity of cilia on the larval surface (red: maximum speed; blue: 0 speed)"
   ]
  },
  {
   "cell_type": "code",
   "execution_count": null,
   "id": "466286c3-b4f2-430e-a300-dde7173de673",
   "metadata": {
    "jupyter": {
     "source_hidden": true
    },
    "tags": []
   },
   "outputs": [],
   "source": [
    "# Set simulation parameters\n",
    "spars_dudz=widgets.FloatText(value=0.,width=10,description = r\"$\\frac{dU}{dz}$\")\n",
    "spars_dvdz=widgets.FloatText(value=0.,description = r\"$\\frac{dV}{dz}$\")\n",
    "spars_dwdx=widgets.FloatText(value=0.,description = r\"$\\frac{dW}{dx}$\")\n",
    "spars_Tmax=widgets.FloatText(value=10,description = r\"$T_{max}$\")\n",
    "spars_cil_speed=widgets.FloatText(value=500.e-6,description = r\"$V_{cilia}$\")\n",
    "spars_phi=widgets.FloatText(value=pi/3.,description = r\"$\\phi$\")\n",
    "spars_theta=widgets.FloatText(value=pi/4.,description = r\"$\\theta$\")\n",
    "spars_psi=widgets.FloatText(value=pi,description = r\"$\\psi$\")\n",
    "\n",
    "#translate=[0.,0.,40.e-6]\n",
    "\n",
    "ui0s = widgets.VBox([spars_dudz,spars_phi,spars_Tmax])\n",
    "ui1s = widgets.VBox([spars_dvdz,spars_theta,spars_cil_speed])\n",
    "ui2s = widgets.VBox([spars_dwdx,spars_psi])\n",
    "ui012s = widgets.HBox([ui0s,ui1s,ui2s])\n",
    "\n",
    "\n",
    "outs = widgets.interactive_output(set_sim_pars,{'dudz':spars_dudz,'dvdz':spars_dvdz,'dwdx':spars_dwdx,'Tmax':spars_Tmax,\n",
    "                                                'cil_speed':spars_cil_speed,'phi':spars_phi,\n",
    "                                                'theta':spars_theta,\n",
    "                                                'psi':spars_psi})\n",
    "display(ui012s,outs)"
   ]
  },
  {
   "cell_type": "markdown",
   "id": "1d3c5907-80c1-484d-a58a-698fc7c04cf6",
   "metadata": {
    "tags": []
   },
   "source": [
    "## Run the simulation\n",
    "Hit the **reset** button to create a new simulation window. \n",
    "\n",
    "Hit **run** to simulate swimming of the larval shape you defined using the flow parameters you defined.\n",
    "\n",
    "In this window, the left hand side plot shows the trajectory of the larva (blue lines), starting at the position (0,0,0) which is marked with a red dot. The simulated time, and the larval position and velocity are given at the top of the plot.\n",
    "\n",
    "The right hand side plot shows the orientation of the larval shape. The Euler angles specifying the larva's orientation are given at the top of the plot.\n",
    "\n",
    "The simulation will plot multiple trajectories in the same plot, to make it easy to compare the effects of different shear rates. You can save the plot using the disk icon at the top of the simulation window. "
   ]
  },
  {
   "cell_type": "code",
   "execution_count": null,
   "id": "d55054ed-a599-43ad-8ea1-65c39f8e0c75",
   "metadata": {
    "jupyter": {
     "source_hidden": true
    },
    "tags": []
   },
   "outputs": [],
   "source": [
    "global Sim\n",
    "button = widgets.Button(description=\"Reset\")\n",
    "output = widgets.Output()\n",
    "button2 = widgets.Button(description=\"Run\")\n",
    "output2 = widgets.Output()\n",
    "\n",
    "buttons = widgets.HBox([button, output, button2, output2])\n",
    "display(buttons)\n",
    "\n",
    "#pyplot.ion()\n",
    "pyplot.ioff()\n",
    "\n",
    "@output.capture()\n",
    "def on_button_clicked(b):\n",
    "    global Sim, sim_pars\n",
    "    with pyplot.ioff():\n",
    "        figS = pyplot.figure(num=58)\n",
    "    Sim = flw.VRSsim(morph=M,fignum=58)\n",
    "    #Sim = flw.VRSsim(morph=M,fig=figS,fignum=58)\n",
    "    #Sim = flw.VRSsim(morph=M,fig=figS)\n",
    "\n",
    "@output2.capture()\n",
    "def on_button_clicked2(b):\n",
    "    global Sim,sim_pars\n",
    "    Sim.run(XEinit=sim_pars.XEinit,Tmax=sim_pars.Tmax,cil_speed=sim_pars.cil_speed,U_const_fixed=sim_pars.U_const_fixed,S_fixed=sim_pars.S_fixed)\n",
    "\n",
    "#pyplot.ioff()\n",
    "button.on_click(on_button_clicked)\n",
    "#pyplot.ion()\n",
    "button2.on_click(on_button_clicked2)"
   ]
  },
  {
   "cell_type": "code",
   "execution_count": null,
   "id": "ffa77e8b-7dda-4073-ac5f-0c008355a35e",
   "metadata": {
    "jupyter": {
     "source_hidden": true
    }
   },
   "outputs": [],
   "source": []
  }
 ],
 "metadata": {
  "kernelspec": {
   "display_name": "Python 3 (ipykernel)",
   "language": "python",
   "name": "python3"
  },
  "language_info": {
   "codemirror_mode": {
    "name": "ipython",
    "version": 3
   },
   "file_extension": ".py",
   "mimetype": "text/x-python",
   "name": "python",
   "nbconvert_exporter": "python",
   "pygments_lexer": "ipython3",
   "version": "3.10.12"
  }
 },
 "nbformat": 4,
 "nbformat_minor": 5
}
